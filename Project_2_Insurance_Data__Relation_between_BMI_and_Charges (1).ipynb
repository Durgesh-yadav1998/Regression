{
  "nbformat": 4,
  "nbformat_minor": 0,
  "metadata": {
    "colab": {
      "provenance": []
    },
    "kernelspec": {
      "name": "python3",
      "display_name": "Python 3"
    },
    "language_info": {
      "name": "python"
    }
  },
  "cells": [
    {
      "cell_type": "markdown",
      "source": [
        "#Basic of Data Used\n",
        "\n",
        "\n"
      ],
      "metadata": {
        "id": "ZPaLD5TW_a6n"
      }
    },
    {
      "cell_type": "markdown",
      "source": [
        "This data is about Inurance company premium calculated based on BMI, Gender, Smoking, age, Dependant \n",
        "\n",
        "Y= Charges\n",
        "X= BMI"
      ],
      "metadata": {
        "id": "rn9L2qnMAJu_"
      }
    },
    {
      "cell_type": "markdown",
      "source": [
        "# Important Libraries"
      ],
      "metadata": {
        "id": "k7XvsIxH_Uqk"
      }
    },
    {
      "cell_type": "code",
      "execution_count": null,
      "metadata": {
        "id": "-X5PgrRn3lea"
      },
      "outputs": [],
      "source": [
        "import numpy as np   # Numerical Library # Array\n",
        "import pandas as pd   # Data Analysys  Tabular Analysys\n",
        "import matplotlib.pyplot as plt   # Data Visua\n",
        "import seaborn as sn  # Data Visual"
      ]
    },
    {
      "cell_type": "markdown",
      "source": [
        "# Read Data"
      ],
      "metadata": {
        "id": "DAfBPqTHAmxr"
      }
    },
    {
      "cell_type": "code",
      "source": [
        "df = pd.read_csv('insurance.csv')  # This is To Read CSV file"
      ],
      "metadata": {
        "id": "Yx2LKaCqArrT"
      },
      "execution_count": null,
      "outputs": []
    },
    {
      "cell_type": "code",
      "source": [
        "df"
      ],
      "metadata": {
        "id": "ci05sC_qBARL"
      },
      "execution_count": null,
      "outputs": []
    },
    {
      "cell_type": "markdown",
      "source": [
        "## EDA - Summary of Data, Data Visualization"
      ],
      "metadata": {
        "id": "a_Xo9vohBPVT"
      }
    },
    {
      "cell_type": "markdown",
      "metadata": {
        "id": "sZhDiTOKTW3K"
      },
      "source": [
        "#Explore Data in Depth"
      ]
    },
    {
      "cell_type": "code",
      "metadata": {
        "id": "gBrhZpj6R1DT"
      },
      "source": [
        "df.shape  # Column and Row"
      ],
      "execution_count": null,
      "outputs": []
    },
    {
      "cell_type": "code",
      "metadata": {
        "id": "KIrgP6TRR8vp"
      },
      "source": [
        "df.columns  # Column Name"
      ],
      "execution_count": null,
      "outputs": []
    },
    {
      "cell_type": "code",
      "metadata": {
        "id": "sOCoI0DkR2Bn"
      },
      "source": [
        "df.dtypes  # Data Type of Each Column"
      ],
      "execution_count": null,
      "outputs": []
    },
    {
      "cell_type": "code",
      "metadata": {
        "id": "OSvAKGqQSQBM"
      },
      "source": [
        "df.count()   # There is no Data Missing in Data set"
      ],
      "execution_count": null,
      "outputs": []
    },
    {
      "cell_type": "code",
      "metadata": {
        "id": "5SgnHJWUSSTK"
      },
      "source": [
        "df.isnull().sum()  # There is no Data Missing in Data set"
      ],
      "execution_count": null,
      "outputs": []
    },
    {
      "cell_type": "code",
      "metadata": {
        "id": "-kjzT2wPRwgI"
      },
      "source": [
        "df.head()  # First 5 Reading"
      ],
      "execution_count": null,
      "outputs": []
    },
    {
      "cell_type": "code",
      "metadata": {
        "id": "07vXblgZRwjh"
      },
      "source": [
        "df.head(10)"
      ],
      "execution_count": null,
      "outputs": []
    },
    {
      "cell_type": "code",
      "metadata": {
        "id": "hsNoOsvLS5LB"
      },
      "source": [
        "df['region'].head()    # df['Column Name'].head() "
      ],
      "execution_count": null,
      "outputs": []
    },
    {
      "cell_type": "code",
      "metadata": {
        "id": "2UZLPY1hRwmP"
      },
      "source": [
        "df.tail()"
      ],
      "execution_count": null,
      "outputs": []
    },
    {
      "cell_type": "code",
      "metadata": {
        "id": "zIGTtiBlRwo3"
      },
      "source": [
        "df.tail(10)"
      ],
      "execution_count": null,
      "outputs": []
    },
    {
      "cell_type": "code",
      "metadata": {
        "id": "qCGEEhydSGrR"
      },
      "source": [
        "df.sample()"
      ],
      "execution_count": null,
      "outputs": []
    },
    {
      "cell_type": "code",
      "metadata": {
        "id": "NyD1MS4-SGuo"
      },
      "source": [
        "df.sample(5)"
      ],
      "execution_count": null,
      "outputs": []
    },
    {
      "cell_type": "code",
      "metadata": {
        "id": "kJ1w352YSYLQ"
      },
      "source": [
        "df[50:100]"
      ],
      "execution_count": null,
      "outputs": []
    },
    {
      "cell_type": "code",
      "metadata": {
        "id": "2aXCARC3SMHi"
      },
      "source": [
        "df.info()"
      ],
      "execution_count": null,
      "outputs": []
    },
    {
      "cell_type": "code",
      "metadata": {
        "id": "9VGvNwKYSMK6"
      },
      "source": [
        "df.describe()"
      ],
      "execution_count": null,
      "outputs": []
    },
    {
      "cell_type": "code",
      "metadata": {
        "id": "kT4XIvcmcsWK"
      },
      "source": [
        "df.describe().T"
      ],
      "execution_count": null,
      "outputs": []
    },
    {
      "cell_type": "markdown",
      "source": [
        "in Data - Age between 18 - 64"
      ],
      "metadata": {
        "id": "kRRRq8y0F532"
      }
    },
    {
      "cell_type": "code",
      "source": [
        "df['age'].value_counts()"
      ],
      "metadata": {
        "id": "elAZnSb-GCTq"
      },
      "execution_count": null,
      "outputs": []
    },
    {
      "cell_type": "code",
      "metadata": {
        "id": "c8019bpwSMNx"
      },
      "source": [
        "df['sex'].value_counts()"
      ],
      "execution_count": null,
      "outputs": []
    },
    {
      "cell_type": "code",
      "source": [
        "df.dtypes"
      ],
      "metadata": {
        "id": "M8iTMRiKG9ys"
      },
      "execution_count": null,
      "outputs": []
    },
    {
      "cell_type": "markdown",
      "metadata": {
        "id": "ulMeGZAdTbm6"
      },
      "source": [
        "#Visualization of Data"
      ]
    },
    {
      "cell_type": "code",
      "metadata": {
        "id": "V8OuSZCjSMQo"
      },
      "source": [
        "df.hist(figsize = (10,10))"
      ],
      "execution_count": null,
      "outputs": []
    },
    {
      "cell_type": "code",
      "metadata": {
        "id": "Hwtw2XOPRmNH"
      },
      "source": [
        "sn.heatmap(df.corr())"
      ],
      "execution_count": null,
      "outputs": []
    },
    {
      "cell_type": "code",
      "metadata": {
        "id": "z1BZGuWuRmQB"
      },
      "source": [
        "sn.countplot(x='charges',data=df)\n",
        "plt.show()"
      ],
      "execution_count": null,
      "outputs": []
    },
    {
      "cell_type": "code",
      "metadata": {
        "id": "E9TTeGDdZy8y"
      },
      "source": [
        "sn.scatterplot(x='bmi', y='charges',data=df)\n",
        "plt.show()"
      ],
      "execution_count": null,
      "outputs": []
    },
    {
      "cell_type": "code",
      "source": [
        "df"
      ],
      "metadata": {
        "id": "xSvHg7lyA2W1"
      },
      "execution_count": null,
      "outputs": []
    },
    {
      "cell_type": "markdown",
      "source": [
        "# Data Cleaning"
      ],
      "metadata": {
        "id": "2x_daMWiVQs6"
      }
    },
    {
      "cell_type": "code",
      "source": [
        "df.head(1)"
      ],
      "metadata": {
        "id": "Ee-OfX_PVUK4"
      },
      "execution_count": null,
      "outputs": []
    },
    {
      "cell_type": "code",
      "source": [
        "df.drop('children',axis=1,inplace=True)"
      ],
      "metadata": {
        "id": "19naEULsV5Wc"
      },
      "execution_count": null,
      "outputs": []
    },
    {
      "cell_type": "code",
      "source": [
        "df.drop('region',axis=1,inplace=True)"
      ],
      "metadata": {
        "id": "IY-5gjUhWGxA"
      },
      "execution_count": null,
      "outputs": []
    },
    {
      "cell_type": "code",
      "source": [
        "df.head(1)"
      ],
      "metadata": {
        "id": "0oCusnygWMUx"
      },
      "execution_count": null,
      "outputs": []
    }
  ]
}